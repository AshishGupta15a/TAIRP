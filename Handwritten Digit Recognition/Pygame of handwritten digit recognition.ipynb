{
 "cells": [
  {
   "cell_type": "code",
   "execution_count": 1,
   "id": "e90d7655",
   "metadata": {},
   "outputs": [
    {
     "name": "stdout",
     "output_type": "stream",
     "text": [
      "pygame 2.5.2 (SDL 2.28.3, Python 3.10.13)\n",
      "Hello from the pygame community. https://www.pygame.org/contribute.html\n"
     ]
    }
   ],
   "source": [
    "from tokenize import Number\n",
    "from numpy import testing\n",
    "from numpy.lib.type_check import imag\n",
    "import pygame,sys\n",
    "from pygame.locals import *\n",
    "import numpy as np\n",
    "from keras.models import load_model\n",
    "import cv2\n",
    "from tensorflow.python.keras.backend import constant"
   ]
  },
  {
   "cell_type": "code",
   "execution_count": 2,
   "id": "20ef5930",
   "metadata": {},
   "outputs": [],
   "source": [
    "WHITE=(255,255,255)"
   ]
  },
  {
   "cell_type": "code",
   "execution_count": 3,
   "id": "f173aeae",
   "metadata": {},
   "outputs": [],
   "source": [
    "RED=(255,0,0)"
   ]
  },
  {
   "cell_type": "code",
   "execution_count": 4,
   "id": "c0ee1faf",
   "metadata": {},
   "outputs": [],
   "source": [
    "BLACK=(0,0,0)"
   ]
  },
  {
   "cell_type": "code",
   "execution_count": 5,
   "id": "1cbca56d",
   "metadata": {},
   "outputs": [],
   "source": [
    "A=640"
   ]
  },
  {
   "cell_type": "code",
   "execution_count": 6,
   "id": "63cb9771",
   "metadata": {},
   "outputs": [],
   "source": [
    "B=460"
   ]
  },
  {
   "cell_type": "code",
   "execution_count": 7,
   "id": "854006db",
   "metadata": {},
   "outputs": [],
   "source": [
    "number_xcord=[]\n",
    "number_ycord=[]"
   ]
  },
  {
   "cell_type": "code",
   "execution_count": 8,
   "id": "0ec99bb1",
   "metadata": {},
   "outputs": [],
   "source": [
    "image_cnt=1"
   ]
  },
  {
   "cell_type": "code",
   "execution_count": 9,
   "id": "943d420d",
   "metadata": {},
   "outputs": [],
   "source": [
    "PREDICT=True"
   ]
  },
  {
   "cell_type": "code",
   "execution_count": 10,
   "id": "6bd92566",
   "metadata": {},
   "outputs": [],
   "source": [
    "BOUNDRYINC=5"
   ]
  },
  {
   "cell_type": "code",
   "execution_count": 11,
   "id": "84587251",
   "metadata": {},
   "outputs": [],
   "source": [
    "iswriting=False"
   ]
  },
  {
   "cell_type": "code",
   "execution_count": 12,
   "id": "c5d35b15",
   "metadata": {},
   "outputs": [],
   "source": [
    "IMAGESAVE=False"
   ]
  },
  {
   "cell_type": "code",
   "execution_count": 13,
   "id": "b206b6f0",
   "metadata": {},
   "outputs": [],
   "source": [
    "MODEL=load_model(\"bestmodel.h5\")"
   ]
  },
  {
   "cell_type": "code",
   "execution_count": 14,
   "id": "b75436d4",
   "metadata": {},
   "outputs": [],
   "source": [
    "LABELS={0:\"Zero\",1:\"One\",2:\"Two\",3:\"Three\",4:\"Four\",5:\"Five\",6:\"Six\",7:\"Seven\",8:\"Eight\",9:\"Nine\"}"
   ]
  },
  {
   "cell_type": "code",
   "execution_count": 15,
   "id": "2dcccf96",
   "metadata": {},
   "outputs": [
    {
     "data": {
      "text/plain": [
       "(5, 0)"
      ]
     },
     "execution_count": 15,
     "metadata": {},
     "output_type": "execute_result"
    }
   ],
   "source": [
    "pygame.init()"
   ]
  },
  {
   "cell_type": "code",
   "execution_count": 16,
   "id": "4839d38a",
   "metadata": {},
   "outputs": [],
   "source": [
    "DISPLAYSURFACE=pygame.display.set_mode((A,B))\n",
    "pygame.display.set_caption(\"Digit Board\")"
   ]
  },
  {
   "cell_type": "code",
   "execution_count": 17,
   "id": "59f3448b",
   "metadata": {},
   "outputs": [
    {
     "name": "stdout",
     "output_type": "stream",
     "text": [
      "1/1 [==============================] - 0s 104ms/step\n",
      "1/1 [==============================] - 0s 18ms/step\n",
      "1/1 [==============================] - 0s 20ms/step\n",
      "1/1 [==============================] - 0s 18ms/step\n",
      "1/1 [==============================] - 0s 19ms/step\n",
      "1/1 [==============================] - 0s 18ms/step\n",
      "1/1 [==============================] - 0s 18ms/step\n",
      "1/1 [==============================] - 0s 21ms/step\n",
      "1/1 [==============================] - 0s 19ms/step\n",
      "1/1 [==============================] - 0s 19ms/step\n",
      "1/1 [==============================] - 0s 18ms/step\n",
      "1/1 [==============================] - 0s 18ms/step\n",
      "1/1 [==============================] - 0s 18ms/step\n",
      "1/1 [==============================] - 0s 19ms/step\n",
      "1/1 [==============================] - 0s 18ms/step\n",
      "1/1 [==============================] - 0s 18ms/step\n",
      "1/1 [==============================] - 0s 18ms/step\n",
      "1/1 [==============================] - 0s 19ms/step\n",
      "1/1 [==============================] - 0s 19ms/step\n",
      "1/1 [==============================] - 0s 18ms/step\n",
      "1/1 [==============================] - 0s 19ms/step\n",
      "1/1 [==============================] - 0s 20ms/step\n",
      "1/1 [==============================] - 0s 19ms/step\n",
      "1/1 [==============================] - 0s 20ms/step\n",
      "1/1 [==============================] - 0s 20ms/step\n",
      "1/1 [==============================] - 0s 19ms/step\n",
      "1/1 [==============================] - 0s 18ms/step\n",
      "1/1 [==============================] - 0s 18ms/step\n",
      "1/1 [==============================] - 0s 18ms/step\n",
      "1/1 [==============================] - 0s 18ms/step\n",
      "1/1 [==============================] - 0s 18ms/step\n",
      "1/1 [==============================] - 0s 18ms/step\n",
      "1/1 [==============================] - 0s 18ms/step\n"
     ]
    },
    {
     "ename": "SystemExit",
     "evalue": "",
     "output_type": "error",
     "traceback": [
      "An exception has occurred, use %tb to see the full traceback.\n",
      "\u001b[1;31mSystemExit\u001b[0m\n"
     ]
    },
    {
     "name": "stderr",
     "output_type": "stream",
     "text": [
      "C:\\Users\\Asus\\anaconda3\\envs\\tensorflow\\lib\\site-packages\\IPython\\core\\interactiveshell.py:3534: UserWarning: To exit: use 'exit', 'quit', or Ctrl-D.\n",
      "  warn(\"To exit: use 'exit', 'quit', or Ctrl-D.\", stacklevel=1)\n"
     ]
    }
   ],
   "source": [
    "# Define font and create a Font object\n",
    "FONT_SIZE = 36  # Example font size\n",
    "FONT = pygame.font.Font(None, FONT_SIZE)  # Use None for default system font, or provide a path to a specific font file\n",
    "\n",
    "while True:\n",
    "    for event in pygame.event.get():\n",
    "        if event.type == QUIT:\n",
    "            pygame.quit()\n",
    "            sys.exit()\n",
    "        if event.type == MOUSEMOTION and iswriting:\n",
    "            xcord, ycord = event.pos\n",
    "            pygame.draw.circle(DISPLAYSURFACE, WHITE, (xcord, ycord), 4, 0)\n",
    "            number_xcord.append(xcord)\n",
    "            number_ycord.append(ycord)\n",
    "        if event.type == MOUSEBUTTONDOWN:\n",
    "            iswriting = True\n",
    "        if event.type == MOUSEBUTTONUP:\n",
    "            iswriting = False\n",
    "            \n",
    "            rect_min_x, rect_max_x = max(number_xcord[0] - BOUNDRYINC, 0), min(A, number_xcord[-1 + BOUNDRYINC])\n",
    "            rect_min_y, rect_max_y = max(number_ycord[0] - BOUNDRYINC, 0), min(A, number_ycord[-1] + BOUNDRYINC, A)\n",
    "            \n",
    "            number_xcord = []\n",
    "            number_ycord = []\n",
    "            \n",
    "            # Ensure rect_max_x and rect_max_y are not out of bounds\n",
    "            rect_max_x = min(rect_max_x, DISPLAYSURFACE.get_width())\n",
    "            rect_max_y = min(rect_max_y, DISPLAYSURFACE.get_height())\n",
    "            \n",
    "            # Check if the selected area is valid\n",
    "            if rect_max_x > rect_min_x and rect_max_y > rect_min_y:\n",
    "                ing_arr = np.array(pygame.PixelArray(DISPLAYSURFACE))[rect_min_x:rect_max_x, rect_min_y:rect_max_y].T.astype(np.float32)\n",
    "                \n",
    "                if IMAGESAVE:\n",
    "                    cv2.imwrite(\"image.png\", ing_arr)\n",
    "                    image_cnt += 1\n",
    "                if PREDICT:\n",
    "                    if ing_arr.size > 0:\n",
    "                        image = cv2.resize(ing_arr, (28, 28))\n",
    "                        image = np.pad(image, (10, 10), 'constant', constant_values=0)\n",
    "                        image = cv2.resize(image, (28, 28)) / 255\n",
    "                        \n",
    "                        label = str(LABELS[np.argmax(MODEL.predict(image.reshape(1, 28, 28, 1)))])\n",
    "                        \n",
    "                        textSurface = FONT.render(label, True, RED, WHITE)\n",
    "                        textRecObj = textSurface.get_rect()\n",
    "                        textRecObj.left, textRecObj.bottom = rect_min_x, rect_max_y\n",
    "                        \n",
    "                        DISPLAYSURFACE.blit(textSurface, textRecObj)\n",
    "            if event.type == KEYDOWN:\n",
    "                if event.unicode == \"n\":\n",
    "                    DISPLAYSURFACE.fill(BLACK)\n",
    "        pygame.display.update()\n"
   ]
  },
  {
   "cell_type": "code",
   "execution_count": null,
   "id": "efb65bb2",
   "metadata": {},
   "outputs": [],
   "source": []
  }
 ],
 "metadata": {
  "kernelspec": {
   "display_name": "Python 3 (ipykernel)",
   "language": "python",
   "name": "python3"
  },
  "language_info": {
   "codemirror_mode": {
    "name": "ipython",
    "version": 3
   },
   "file_extension": ".py",
   "mimetype": "text/x-python",
   "name": "python",
   "nbconvert_exporter": "python",
   "pygments_lexer": "ipython3",
   "version": "3.10.13"
  }
 },
 "nbformat": 4,
 "nbformat_minor": 5
}
